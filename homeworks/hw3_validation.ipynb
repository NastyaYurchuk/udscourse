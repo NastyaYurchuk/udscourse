{
 "cells": [
  {
   "cell_type": "markdown",
   "metadata": {},
   "source": [
    "# Homework 3 \n",
    "\n",
    "You will have 2 datasets to work on. \n",
    "#### You have to answer questions in this [form](https://goo.gl/forms/5gfxvKZxpoydoeOB2) and provide your code\n",
    "\n",
    "### 1. Wikipedia Web Traffic Time Series\n",
    "\n",
    "Data from [Kaggle competition](https://www.kaggle.com/c/web-traffic-time-series-forecasting)* )\n",
    "\n",
    "*wikipedia_train3* - train data *wikipedia_test3* - test data created by us from original train data . For more information about dataset, please visit Homework1 assignment\n",
    "\n",
    "\n",
    "### 2. French dataset\n",
    "\n",
    "Target variable is prime_tot_ttc – house of insurance price.<p>\n",
    "The variables in the files are:<p>\n",
    "code_postal: postal code of the insured property<p>\n",
    "nb_pieces: number of rooms<p>\n",
    "veranda: presence of a veranda<p>\n",
    "biens_nomades: ceiling of coverage of goods (laptop, tablets, musical instruments ,…)<p>\n",
    "sit_fam: family situation of the insured<p>\n",
    "profession: profession of the insured<p>\n",
    "nature_lri: nature of the insured property<p>\n",
    "societe: company covering the risk<p>\n",
    "cdomact: area of activity of the insured<p>\n",
    "niv_urbanisation: level of urbanization in which is the insured property<p>\n",
    "age_societaire: age of the member<p>\n",
    "objets_precieux: presence of precious objects in the insured property<p>\n",
    "pres_contrat_auto: holding a contract of auto insurance<p>\n",
    "formule: guarantee formula<p>\n",
    "sit_juridique: legal situation<p>\n",
    "surf_habitat: area of insured property<p>\n",
    "patrimoine_mob: amount of heritage insured furniture<p>\n",
    "var1 - ... - var11: non-explicit variables<p>\n"
   ]
  },
  {
   "cell_type": "markdown",
   "metadata": {},
   "source": [
    "## Wikipedia page views (SMAPE metric)"
   ]
  },
  {
   "cell_type": "code",
   "execution_count": 1,
   "metadata": {
    "collapsed": true
   },
   "outputs": [],
   "source": [
    "import pandas as pd\n",
    "import numpy as np"
   ]
  },
  {
   "cell_type": "code",
   "execution_count": 2,
   "metadata": {
    "collapsed": true
   },
   "outputs": [],
   "source": [
    "### This is data from wikipedia3 archive in data folder\n",
    "\n",
    "train = pd.read_csv(\"../data/wikipedia_train3.csv\")\n",
    "test = pd.read_csv(\"../data/wikipedia_test3.csv\")"
   ]
  },
  {
   "cell_type": "markdown",
   "metadata": {},
   "source": [
    "**1.** Take a look carefuly at train and test dataset. Note for you what is the difference in them and how they are dependent. **For _only_ train** create a holdout validation using any type of split you think is useful here. What is the split type you are using? Answer in google forms\n",
    "\n",
    "**2.** Write a code to compare the score of your validation and test set. For scoring, use metric SMAPE (code is in lecture). For prediction use 15 previous days median. In the google form write your validation score."
   ]
  },
  {
   "cell_type": "code",
   "execution_count": null,
   "metadata": {
    "collapsed": true
   },
   "outputs": [],
   "source": [
    "### Your code here"
   ]
  },
  {
   "cell_type": "markdown",
   "metadata": {
    "collapsed": true
   },
   "source": [
    "**3.** Perform K-fold validation using your type of split. Run GridSearch with any classificator you like and set of parameters to optimize, providing it with your custom validation.  Compare the score of your validation and test set. For scoring, again, use metrics SMAPE. In the google form write your scores on validation and test sets"
   ]
  },
  {
   "cell_type": "code",
   "execution_count": 1,
   "metadata": {
    "collapsed": true
   },
   "outputs": [],
   "source": [
    "### Your code here\n",
    "def create_validation(df, start_date):\n",
    "    pass"
   ]
  },
  {
   "cell_type": "code",
   "execution_count": 2,
   "metadata": {
    "collapsed": true
   },
   "outputs": [],
   "source": [
    "### Your validation iterator\n",
    "CVIterator = []"
   ]
  },
  {
   "cell_type": "markdown",
   "metadata": {
    "collapsed": true
   },
   "source": [
    "## French house insurance prediction (MAPE metric)"
   ]
  },
  {
   "cell_type": "markdown",
   "metadata": {},
   "source": [
    "**1.** Take a look carefuly at train and test dataset. Note for you what is the difference in them and how they are dependent. You may use any tool you like, any EDA you want. Decribe your validation and reason for your choice in google form.\n",
    "\n",
    "**2.** \n",
    "+ Implement your validation. \n",
    "+ Generate additional features. \n",
    "+ Build a model you like/you can. \n",
    "+ Wait for training your model. If it takes too much time, listen to https://www.youtube.com/watch?v=XWkGL4eZR3E\n",
    "+ Submit your scores on validation and test to google form. Use MAPE metric for scoring. \n",
    "+ Ланфрен ланфра лантатита"
   ]
  },
  {
   "cell_type": "code",
   "execution_count": null,
   "metadata": {
    "collapsed": true
   },
   "outputs": [],
   "source": [
    "train = pd.read_csv('../data/train_french.csv')\n",
    "test = pd.read_csv('../data/test_french.csv')"
   ]
  },
  {
   "cell_type": "code",
   "execution_count": null,
   "metadata": {
    "collapsed": true
   },
   "outputs": [],
   "source": []
  },
  {
   "cell_type": "code",
   "execution_count": null,
   "metadata": {
    "collapsed": true
   },
   "outputs": [],
   "source": []
  },
  {
   "cell_type": "code",
   "execution_count": null,
   "metadata": {
    "collapsed": true
   },
   "outputs": [],
   "source": []
  },
  {
   "cell_type": "code",
   "execution_count": null,
   "metadata": {
    "collapsed": true
   },
   "outputs": [],
   "source": []
  },
  {
   "cell_type": "code",
   "execution_count": null,
   "metadata": {
    "collapsed": true
   },
   "outputs": [],
   "source": []
  }
 ],
 "metadata": {
  "kernelspec": {
   "display_name": "Python 3",
   "language": "python",
   "name": "python3"
  },
  "language_info": {
   "codemirror_mode": {
    "name": "ipython",
    "version": 3
   },
   "file_extension": ".py",
   "mimetype": "text/x-python",
   "name": "python",
   "nbconvert_exporter": "python",
   "pygments_lexer": "ipython3",
   "version": "3.6.3"
  }
 },
 "nbformat": 4,
 "nbformat_minor": 2
}
